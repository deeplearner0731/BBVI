{
 "cells": [
  {
   "cell_type": "code",
   "execution_count": 1,
   "metadata": {},
   "outputs": [],
   "source": [
    "from derivative import derivative_mean, derivative_rho\n",
    "from utility_functions import gaussian_distribution,cov,q_simulate,log_p_q,lik_hood,sample\n",
    "from Evaluation import train_accuracy,test_accuracy\n",
    "from data import load_data\n"
   ]
  },
  {
   "cell_type": "code",
   "execution_count": 25,
   "metadata": {},
   "outputs": [],
   "source": [
    "from matplotlib import pyplot as plt\n",
    "from sklearn.preprocessing import scale \n",
    "import numpy as np\n",
    "import pandas as pd \n",
    "import time"
   ]
  },
  {
   "cell_type": "code",
   "execution_count": 26,
   "metadata": {},
   "outputs": [],
   "source": [
    "def initialization(c,nodes):\n",
    "    global X,Y,X_test,Y_test\n",
    "    global kn,p\n",
    "    X, Y, X_test, Y_test = load_data(seed=0,state=c)\n",
    "    X_til=np.concatenate((X,X_test))\n",
    "    X_til=scale(X_til,with_mean=True,with_std=True)\n",
    "    X=X_til[0:X.shape[0],:]\n",
    "    X_test=X_til[X.shape[0]:X.shape[0]+X_test.shape[0],:]\n",
    "    kn=nodes\n",
    "    p=X.shape[1]"
   ]
  },
  {
   "cell_type": "code",
   "execution_count": 27,
   "metadata": {},
   "outputs": [],
   "source": [
    "initialization(4,10)"
   ]
  },
  {
   "cell_type": "code",
   "execution_count": null,
   "metadata": {},
   "outputs": [],
   "source": []
  }
 ],
 "metadata": {
  "kernelspec": {
   "display_name": "Python 2",
   "language": "python",
   "name": "python2"
  },
  "language_info": {
   "codemirror_mode": {
    "name": "ipython",
    "version": 2
   },
   "file_extension": ".py",
   "mimetype": "text/x-python",
   "name": "python",
   "nbconvert_exporter": "python",
   "pygments_lexer": "ipython2",
   "version": "2.7.16"
  }
 },
 "nbformat": 4,
 "nbformat_minor": 2
}
